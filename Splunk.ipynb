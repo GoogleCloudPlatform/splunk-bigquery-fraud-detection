{
  "nbformat": 4,
  "nbformat_minor": 0,
  "metadata": {
    "colab": {
      "name": "BigQuery table",
      "cell_execution_strategy": "setup",
      "provenance": []
    },
    "kernelspec": {
      "name": "python3",
      "display_name": "Python 3"
    },
    "language_info": {
      "name": "python"
    }
  },
  "cells": [
    {
      "cell_type": "markdown",
      "source": [
        "#Create a Search Job and Get SID from Splunk"
      ],
      "metadata": {
        "id": "nSTlEFhP_rtX"
      }
    },
    {
      "cell_type": "code",
      "source": [
        "import requests\n",
        "from xml.dom import minidom\n",
        "\n",
        "# Set the URL and authentication credentials\n",
        "url = \"http://03d77e6c06f1.ngrok.app/services/search/jobs/\"\n",
        "username = \"sc_admin\"\n",
        "password = \"Splunk123\"\n",
        "\n",
        "# Create a dictionary of the search parameters\n",
        "search_params = {\n",
        "    \"search\": \"search index=main earliest=-7d\"\n",
        "}\n",
        "\n",
        "# Make the request to the Splunk API\n",
        "response = requests.post(url, auth=(username, password), data=search_params)\n",
        "\n",
        "# Check the response status code\n",
        "if response.status_code == 201:\n",
        "    # The request was successful\n",
        "    print(response.text)\n",
        "else:\n",
        "    # The request failed\n",
        "    print(\"Error: {}\".format(response.status_code))\n",
        "\n",
        "dom = minidom.parseString(response.text)\n",
        "# Get the SID element\n",
        "sid_element = dom.getElementsByTagName(\"sid\")[0]\n",
        "sid = sid_element.firstChild.nodeValue\n",
        "print(sid)"
      ],
      "metadata": {
        "id": "JMKli8P_-Oon"
      },
      "execution_count": null,
      "outputs": []
    },
    {
      "cell_type": "markdown",
      "source": [
        "# Get Results for the SID"
      ],
      "metadata": {
        "id": "Y1aNH8zY_3rK"
      }
    },
    {
      "cell_type": "code",
      "source": [
        "\n",
        "import json\n",
        "results_url = \"http://03d77e6c06f1.ngrok.app/services/search/jobs/{}/results\".format(sid)\n",
        "response = requests.get(results_url, auth=(username, password),params={\"output_mode\": \"json_rows\"})\n",
        "import pandas as pd\n",
        "json_data = json.loads(response.text)\n",
        "# json_data"
      ],
      "metadata": {
        "id": "Rsbf9Abg-TnX"
      },
      "execution_count": null,
      "outputs": []
    },
    {
      "cell_type": "code",
      "source": [
        "def extract_data(json_data):\n",
        "    rows = json_data['rows']\n",
        "    data = []\n",
        "    for row in rows:\n",
        "        raw_data = row[3]\n",
        "        parsed_data = json.loads(raw_data)\n",
        "        data.append({\n",
        "            'timestamp': parsed_data['timestamp'],\n",
        "            'user_id': parsed_data['User_ID'],\n",
        "            'amount': parsed_data['amount'],\n",
        "            'action': parsed_data['action'],\n",
        "            'location': parsed_data['location'],\n",
        "            'is_fraud': parsed_data['is_fraud']\n",
        "        })\n",
        "    return data\n"
      ],
      "metadata": {
        "id": "fjrg-BhF-Xf9"
      },
      "execution_count": null,
      "outputs": []
    },
    {
      "cell_type": "code",
      "source": [
        "# Extract the data from the JSON\n",
        "data = extract_data(json_data)\n",
        "\n",
        "# Create a pandas DataFrame\n",
        "df = pd.DataFrame(data)\n",
        "\n",
        "# Print the DataFrame\n",
        "print(df)\n",
        "print(df.info())\n",
        "\n"
      ],
      "metadata": {
        "id": "FrKjU58v-Zy4"
      },
      "execution_count": null,
      "outputs": []
    },
    {
      "cell_type": "markdown",
      "source": [
        "### Detect Anomaly"
      ],
      "metadata": {
        "id": "fDcrjGbB64DP"
      }
    },
    {
      "cell_type": "code",
      "source": [
        "import pandas as pd\n",
        "from google.cloud import bigquery\n",
        "import json\n",
        "import requests\n",
        "from termcolor import colored\n",
        "\n",
        "# Create a BigQuery client\n",
        "client = bigquery.Client()\n",
        "\n",
        "# Create the query\n",
        "query_template = \"\"\"\n",
        "SELECT\n",
        "  user_id, ts, amount, lower_bound, upper_bound, anomaly_probability, is_anomaly AS anomaly\n",
        "FROM\n",
        "  ML.DETECT_ANOMALIES(MODEL `finance.arima_plus_timeseries_banking`, STRUCT(0.9 AS anomaly_prob_threshold),\n",
        "  (\n",
        "    SELECT @user_id AS user_id, TIMESTAMP(@timestamp) AS ts, @amount AS amount\n",
        "  ))\n",
        "\"\"\"\n",
        "\n",
        "\n",
        "# Iterate over DataFrame rows and execute the query for each row\n",
        "for index, row in df.iterrows():\n",
        "    job_config = bigquery.QueryJobConfig(\n",
        "        query_parameters=[\n",
        "            bigquery.ScalarQueryParameter(\"user_id\", \"INT64\", row[\"user_id\"]),\n",
        "            bigquery.ScalarQueryParameter(\"timestamp\", \"STRING\", row[\"timestamp\"]),\n",
        "            bigquery.ScalarQueryParameter(\"amount\", \"FLOAT64\", row[\"amount\"])\n",
        "        ]\n",
        "    )\n",
        "    query = query_template\n",
        "    query_job = client.query(query, job_config=job_config)\n",
        "    results = query_job.result().to_dataframe()\n",
        "    json_records = results.to_json(orient='records')\n",
        "    json_records = json.loads(json_records)\n",
        "    # If json_records has anomaly_probability is more than 0.9 send it to Splunk\n",
        "    data=json.dumps({\"event\": json_records[0], \"sourcetype\": \"_json\",\"index\":\"anomalies\"})\n",
        "    print(data)\n",
        "    if results.iloc[0]['anomaly_probability'] >= 0.90:\n",
        "        response = requests.post(\"http://492bb2284e5b.ngrok.app/services/collector/event\", headers={\"Authorization\": \"Splunk 292cdf32-0581-48f6-ae52-e3d0277b098d\"}, data=json.dumps({\"event\": json_records[0], \"sourcetype\": \"_json\",\"index\":\"anomalies\"}))\n",
        "        # Print Anomaly in Red\n",
        "        print(json_records[0])\n",
        "\n",
        "\n",
        "\n",
        "\n",
        "\n",
        "\n",
        "\n"
      ],
      "metadata": {
        "id": "uHeHF9a6-cRS"
      },
      "execution_count": null,
      "outputs": []
    }
  ]
}